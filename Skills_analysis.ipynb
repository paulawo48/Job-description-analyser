{
 "cells": [
  {
   "cell_type": "code",
   "execution_count": 8,
   "metadata": {},
   "outputs": [],
   "source": [
    "#Import libraries\n",
    "import pandas as pd, numpy as np, matplotlib.pyplot as plt\n",
    "import re"
   ]
  },
  {
   "cell_type": "code",
   "execution_count": 84,
   "metadata": {},
   "outputs": [],
   "source": [
    "# Import entire data\n",
    "data = pd.read_csv('tech plus coding platforms assessment.csv')"
   ]
  },
  {
   "cell_type": "code",
   "execution_count": 85,
   "metadata": {
    "scrolled": true
   },
   "outputs": [
    {
     "data": {
      "text/html": [
       "<div>\n",
       "<style scoped>\n",
       "    .dataframe tbody tr th:only-of-type {\n",
       "        vertical-align: middle;\n",
       "    }\n",
       "\n",
       "    .dataframe tbody tr th {\n",
       "        vertical-align: top;\n",
       "    }\n",
       "\n",
       "    .dataframe thead th {\n",
       "        text-align: right;\n",
       "    }\n",
       "</style>\n",
       "<table border=\"1\" class=\"dataframe\">\n",
       "  <thead>\n",
       "    <tr style=\"text-align: right;\">\n",
       "      <th></th>\n",
       "      <th>Name</th>\n",
       "      <th>Languages/Software</th>\n",
       "      <th>Courses/Topics</th>\n",
       "      <th>Price</th>\n",
       "      <th>Type of learning</th>\n",
       "      <th>Link</th>\n",
       "    </tr>\n",
       "  </thead>\n",
       "  <tbody>\n",
       "    <tr>\n",
       "      <th>0</th>\n",
       "      <td>Code Academy</td>\n",
       "      <td>HTML &amp; CSS\\nPython\\nJavaScript\\nJava\\nSQL\\nBas...</td>\n",
       "      <td>Web Development\\nData Science\\nComputer Scienc...</td>\n",
       "      <td>~£160 per seat for businesses (need to contact...</td>\n",
       "      <td>Online Courses</td>\n",
       "      <td>https://www.codecademy.com/</td>\n",
       "    </tr>\n",
       "    <tr>\n",
       "      <th>1</th>\n",
       "      <td>Pluralsight</td>\n",
       "      <td>JavaScript\\nPython\\nAndroid\\nHTML\\nRuby\\n.NET\\...</td>\n",
       "      <td>Software Development\\nIT Ops\\nSecurity - secur...</td>\n",
       "      <td>Between £420 - £566 per user per year dependin...</td>\n",
       "      <td>Primarily video based courses with some topics...</td>\n",
       "      <td>https://www.pluralsight.com/</td>\n",
       "    </tr>\n",
       "    <tr>\n",
       "      <th>2</th>\n",
       "      <td>Udacity</td>\n",
       "      <td>\\nPowerBI\\nC++\\nSQL\\nPython\\nR\\nJava\\nJavaScri...</td>\n",
       "      <td>AI for Business Leaders\\nAI for Healthcare\\nAI...</td>\n",
       "      <td>requires meeting with a consultant to get a qu...</td>\n",
       "      <td>Mixture of video and online courses, also bene...</td>\n",
       "      <td>https://www.udacity.com/</td>\n",
       "    </tr>\n",
       "    <tr>\n",
       "      <th>3</th>\n",
       "      <td>Coursera</td>\n",
       "      <td>Python\\nJavaScript\\nC\\nC++\\nHTML\\nCSS\\nScratch...</td>\n",
       "      <td>Extensive computer science and data science co...</td>\n",
       "      <td>Coursera for teams (5-125 people) starts at £2...</td>\n",
       "      <td>Huge range of courses and certifications offered</td>\n",
       "      <td>https://www.coursera.org/</td>\n",
       "    </tr>\n",
       "    <tr>\n",
       "      <th>4</th>\n",
       "      <td>Infosec Skills</td>\n",
       "      <td>NaN</td>\n",
       "      <td>Courses geared specifically and cybersecurity</td>\n",
       "      <td>$434 per user per year</td>\n",
       "      <td>NaN</td>\n",
       "      <td>https://www.infosecinstitute.com/</td>\n",
       "    </tr>\n",
       "  </tbody>\n",
       "</table>\n",
       "</div>"
      ],
      "text/plain": [
       "             Name                                 Languages/Software  \\\n",
       "0    Code Academy  HTML & CSS\\nPython\\nJavaScript\\nJava\\nSQL\\nBas...   \n",
       "1     Pluralsight  JavaScript\\nPython\\nAndroid\\nHTML\\nRuby\\n.NET\\...   \n",
       "2         Udacity  \\nPowerBI\\nC++\\nSQL\\nPython\\nR\\nJava\\nJavaScri...   \n",
       "3        Coursera  Python\\nJavaScript\\nC\\nC++\\nHTML\\nCSS\\nScratch...   \n",
       "4  Infosec Skills                                                NaN   \n",
       "\n",
       "                                      Courses/Topics  \\\n",
       "0  Web Development\\nData Science\\nComputer Scienc...   \n",
       "1  Software Development\\nIT Ops\\nSecurity - secur...   \n",
       "2  AI for Business Leaders\\nAI for Healthcare\\nAI...   \n",
       "3  Extensive computer science and data science co...   \n",
       "4      Courses geared specifically and cybersecurity   \n",
       "\n",
       "                                               Price  \\\n",
       "0  ~£160 per seat for businesses (need to contact...   \n",
       "1  Between £420 - £566 per user per year dependin...   \n",
       "2  requires meeting with a consultant to get a qu...   \n",
       "3  Coursera for teams (5-125 people) starts at £2...   \n",
       "4                             $434 per user per year   \n",
       "\n",
       "                                    Type of learning  \\\n",
       "0                                     Online Courses   \n",
       "1  Primarily video based courses with some topics...   \n",
       "2  Mixture of video and online courses, also bene...   \n",
       "3   Huge range of courses and certifications offered   \n",
       "4                                                NaN   \n",
       "\n",
       "                                Link  \n",
       "0        https://www.codecademy.com/  \n",
       "1       https://www.pluralsight.com/  \n",
       "2           https://www.udacity.com/  \n",
       "3          https://www.coursera.org/  \n",
       "4  https://www.infosecinstitute.com/  "
      ]
     },
     "execution_count": 85,
     "metadata": {},
     "output_type": "execute_result"
    }
   ],
   "source": [
    "# Get data representation\n",
    "data.head()"
   ]
  },
  {
   "cell_type": "code",
   "execution_count": 78,
   "metadata": {},
   "outputs": [
    {
     "name": "stdout",
     "output_type": "stream",
     "text": [
      "Orginal length: 55\n",
      "Reduced length: 41\n"
     ]
    }
   ],
   "source": [
    "# Extract skills\n",
    "skills = data['Languages/Software'].astype(str)\n",
    "ind_skills = [row.split('\\n') for row in skills]\n",
    "ind_skills = ind_skills[0]+ind_skills[1]+ind_skills[2]+ind_skills[3]+ind_skills[4]\n",
    "\n",
    "for skill in ind_skills:\n",
    "    if skill== '':\n",
    "        ind_skills.remove('')\n",
    "    if skill== 'nan':\n",
    "        ind_skills.remove('nan')\n",
    "\n",
    "print('Orginal length:', len(ind_skills))\n",
    "ind_skills = list(pd.DataFrame(ind_skills)[0].unique())  \n",
    "print('Reduced length:', len(ind_skills))    "
   ]
  },
  {
   "cell_type": "code",
   "execution_count": 79,
   "metadata": {},
   "outputs": [
    {
     "data": {
      "text/plain": [
       "['HTML & CSS',\n",
       " 'Python',\n",
       " 'JavaScript',\n",
       " 'Java',\n",
       " 'SQL',\n",
       " 'Bash/Shell',\n",
       " 'Ruby',\n",
       " 'C++',\n",
       " 'R',\n",
       " 'C#',\n",
       " 'PHP',\n",
       " 'Go',\n",
       " 'Swift',\n",
       " 'Kotlin',\n",
       " 'Android',\n",
       " 'HTML',\n",
       " '.NET',\n",
       " 'JQuery',\n",
       " 'Windows Server',\n",
       " 'Docker',\n",
       " 'Oracle',\n",
       " 'Cisco',\n",
       " 'Linux',\n",
       " 'VMware',\n",
       " 'CompTIA',\n",
       " 'MCSE',\n",
       " 'SharePoint',\n",
       " 'Microsoft Office',\n",
       " 'Hadoop',\n",
       " 'MongoDB',\n",
       " 'Tableau',\n",
       " 'Unity',\n",
       " 'Maya',\n",
       " 'Adobe Photoshop',\n",
       " 'Adobe Premier',\n",
       " 'PowerBI',\n",
       " 'Microsoft Azure',\n",
       " 'C',\n",
       " 'CSS',\n",
       " 'Scratch',\n",
       " 'Scala']"
      ]
     },
     "execution_count": 79,
     "metadata": {},
     "output_type": "execute_result"
    }
   ],
   "source": [
    "ind_skills"
   ]
  },
  {
   "cell_type": "code",
   "execution_count": 93,
   "metadata": {},
   "outputs": [],
   "source": [
    "# Import new_job data\n",
    "job_specific_data = pd.read_csv('Monster Jobs webscrape for junior developer, everywhere.csv')\n",
    "job_descriptions = job_specific_data['Job Description']"
   ]
  },
  {
   "cell_type": "code",
   "execution_count": 94,
   "metadata": {
    "scrolled": true
   },
   "outputs": [
    {
     "name": "stdout",
     "output_type": "stream",
     "text": [
      "There were 2035 roles which included:\n"
     ]
    },
    {
     "data": {
      "text/plain": [
       "{'Python': 417,\n",
       " 'Docker': 324,\n",
       " 'Java': 482,\n",
       " 'C#': 440,\n",
       " 'Linux': 284,\n",
       " 'C++': 165,\n",
       " 'Unity': 26,\n",
       " 'Android': 99,\n",
       " 'Go': 219,\n",
       " 'Tableau': 10,\n",
       " 'Scratch': 43,\n",
       " 'Ruby': 127,\n",
       " 'Kotlin': 50,\n",
       " 'C': 136,\n",
       " 'Swift': 44,\n",
       " 'Oracle': 95,\n",
       " 'Cisco': 18,\n",
       " 'Scala': 48,\n",
       " 'Hadoop': 35,\n",
       " 'Maya': 6,\n",
       " 'R': 6}"
      ]
     },
     "execution_count": 94,
     "metadata": {},
     "output_type": "execute_result"
    }
   ],
   "source": [
    "# Function to remove characters which cannot be part of file name\n",
    "def string_clean(string):\n",
    "    bad_chars = [\"/\", \"<\", \">\", \":\", '\"', \"\\\\\", \"|\", \"?\", \"*\",'\\n',',','(',')','-','[',']','.','·']\n",
    "    for char in bad_chars:\n",
    "        string = string.replace(char, \" \")\n",
    "    string = string.replace(\" \", \"_\")\n",
    "    string_list = string.split('_')\n",
    "    \n",
    "    for string in string_list:\n",
    "        if string == '':\n",
    "            string_list.remove(string)\n",
    "            \n",
    "    string_list = [string.title() for string in string_list]\n",
    "    string_list = list(pd.DataFrame(string_list)[0].unique())  \n",
    "    \n",
    "    return string_list\n",
    "\n",
    "skills_freq = {}\n",
    "# Loop through new data & update histogram\n",
    "for row in job_descriptions:\n",
    "    list_desc = string_clean(row)\n",
    "    \n",
    "    #loop through skills and check if it is in the row  \n",
    "    for skill in ind_skills:\n",
    "        if skill in list_desc:\n",
    "            if skill in skills_freq:\n",
    "                skills_freq[skill] += 1\n",
    "            else:\n",
    "                skills_freq[skill] = 1"
   ]
  },
  {
   "cell_type": "code",
   "execution_count": 101,
   "metadata": {},
   "outputs": [
    {
     "name": "stdout",
     "output_type": "stream",
     "text": [
      "There were 2035 roles which included: \n"
     ]
    },
    {
     "data": {
      "text/plain": [
       "{'Maya': 6,\n",
       " 'R': 6,\n",
       " 'Tableau': 10,\n",
       " 'Cisco': 18,\n",
       " 'Unity': 26,\n",
       " 'Hadoop': 35,\n",
       " 'Scratch': 43,\n",
       " 'Swift': 44,\n",
       " 'Scala': 48,\n",
       " 'Kotlin': 50,\n",
       " 'Oracle': 95,\n",
       " 'Android': 99,\n",
       " 'Ruby': 127,\n",
       " 'C': 136,\n",
       " 'C++': 165,\n",
       " 'Go': 219,\n",
       " 'Linux': 284,\n",
       " 'Docker': 324,\n",
       " 'Python': 417,\n",
       " 'C#': 440,\n",
       " 'Java': 482}"
      ]
     },
     "execution_count": 101,
     "metadata": {},
     "output_type": "execute_result"
    }
   ],
   "source": [
    "print('There were',len(job_descriptions),'roles which included: ')\n",
    "\n",
    "sorted_dict = {}\n",
    "sorted_keys = sorted(skills_freq, key=skills_freq.get)  # [1, 3, 2]\n",
    "\n",
    "for w in sorted_keys:\n",
    "    sorted_dict[w] = skills_freq[w]\n",
    "\n",
    "sorted_dict"
   ]
  }
 ],
 "metadata": {
  "kernelspec": {
   "display_name": "Python 3",
   "language": "python",
   "name": "python3"
  },
  "language_info": {
   "codemirror_mode": {
    "name": "ipython",
    "version": 3
   },
   "file_extension": ".py",
   "mimetype": "text/x-python",
   "name": "python",
   "nbconvert_exporter": "python",
   "pygments_lexer": "ipython3",
   "version": "3.8.5"
  },
  "metadata": {
   "interpreter": {
    "hash": "57baa5815c940fdaff4d14510622de9616cae602444507ba5d0b6727c008cbd6"
   }
  }
 },
 "nbformat": 4,
 "nbformat_minor": 2
}
